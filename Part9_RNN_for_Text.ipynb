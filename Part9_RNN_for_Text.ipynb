{
  "nbformat": 4,
  "nbformat_minor": 0,
  "metadata": {
    "colab": {
      "name": "Part9_RNN_for_Text.ipynb",
      "provenance": [],
      "authorship_tag": "ABX9TyNCLSfIT+53+NbKDZNAywWx",
      "include_colab_link": true
    },
    "kernelspec": {
      "name": "python3",
      "display_name": "Python 3"
    },
    "language_info": {
      "name": "python"
    },
    "accelerator": "GPU"
  },
  "cells": [
    {
      "cell_type": "markdown",
      "metadata": {
        "id": "view-in-github",
        "colab_type": "text"
      },
      "source": [
        "<a href=\"https://colab.research.google.com/github/YOOKJIN/ML-DL-Study/blob/main/Part9_RNN_for_Text.ipynb\" target=\"_parent\"><img src=\"https://colab.research.google.com/assets/colab-badge.svg\" alt=\"Open In Colab\"/></a>"
      ]
    },
    {
      "cell_type": "markdown",
      "source": [
        "09-1 순차 데이터와 순환 신경망\n"
      ],
      "metadata": {
        "id": "KDyQVe491PfU"
      }
    },
    {
      "cell_type": "markdown",
      "source": [
        "09-2 순환신경망으로 IMDB 리뷰 분류하기\n"
      ],
      "metadata": {
        "id": "eyLKStzGjF4q"
      }
    },
    {
      "cell_type": "code",
      "execution_count": null,
      "metadata": {
        "colab": {
          "base_uri": "https://localhost:8080/"
        },
        "id": "gzCz6Nbr1BAF",
        "outputId": "e73b2a1d-aac1-49ce-80d5-d1a0c8f7f88c"
      },
      "outputs": [
        {
          "output_type": "stream",
          "name": "stdout",
          "text": [
            "Downloading data from https://storage.googleapis.com/tensorflow/tf-keras-datasets/imdb.npz\n",
            "17465344/17464789 [==============================] - 0s 0us/step\n",
            "17473536/17464789 [==============================] - 0s 0us/step\n"
          ]
        }
      ],
      "source": [
        "from tensorflow.keras.datasets import imdb\n",
        "(train_input, train_target), (test_input, test_target) = imdb.load_data(num_words=500)"
      ]
    },
    {
      "cell_type": "code",
      "source": [
        "print(train_input.shape, test_input.shape)"
      ],
      "metadata": {
        "colab": {
          "base_uri": "https://localhost:8080/"
        },
        "id": "21sC_dRQkWI9",
        "outputId": "13fc38f9-470a-45b5-8992-27e3c5cd82fa"
      },
      "execution_count": null,
      "outputs": [
        {
          "output_type": "stream",
          "name": "stdout",
          "text": [
            "(25000,) (25000,)\n"
          ]
        }
      ]
    },
    {
      "cell_type": "code",
      "source": [
        "print(len(train_input[0]))"
      ],
      "metadata": {
        "colab": {
          "base_uri": "https://localhost:8080/"
        },
        "id": "CGIwjyOkkcnA",
        "outputId": "04c8e768-2e0b-43a7-ec41-b2bd2116a84c"
      },
      "execution_count": null,
      "outputs": [
        {
          "output_type": "stream",
          "name": "stdout",
          "text": [
            "218\n"
          ]
        }
      ]
    },
    {
      "cell_type": "code",
      "source": [
        "print(train_input[0])"
      ],
      "metadata": {
        "colab": {
          "base_uri": "https://localhost:8080/"
        },
        "id": "h1jO8yB6k1lt",
        "outputId": "68be627d-3550-4eed-ab04-48a6e5a43122"
      },
      "execution_count": null,
      "outputs": [
        {
          "output_type": "stream",
          "name": "stdout",
          "text": [
            "[1, 14, 22, 16, 43, 2, 2, 2, 2, 65, 458, 2, 66, 2, 4, 173, 36, 256, 5, 25, 100, 43, 2, 112, 50, 2, 2, 9, 35, 480, 284, 5, 150, 4, 172, 112, 167, 2, 336, 385, 39, 4, 172, 2, 2, 17, 2, 38, 13, 447, 4, 192, 50, 16, 6, 147, 2, 19, 14, 22, 4, 2, 2, 469, 4, 22, 71, 87, 12, 16, 43, 2, 38, 76, 15, 13, 2, 4, 22, 17, 2, 17, 12, 16, 2, 18, 2, 5, 62, 386, 12, 8, 316, 8, 106, 5, 4, 2, 2, 16, 480, 66, 2, 33, 4, 130, 12, 16, 38, 2, 5, 25, 124, 51, 36, 135, 48, 25, 2, 33, 6, 22, 12, 215, 28, 77, 52, 5, 14, 407, 16, 82, 2, 8, 4, 107, 117, 2, 15, 256, 4, 2, 7, 2, 5, 2, 36, 71, 43, 2, 476, 26, 400, 317, 46, 7, 4, 2, 2, 13, 104, 88, 4, 381, 15, 297, 98, 32, 2, 56, 26, 141, 6, 194, 2, 18, 4, 226, 22, 21, 134, 476, 26, 480, 5, 144, 30, 2, 18, 51, 36, 28, 224, 92, 25, 104, 4, 226, 65, 16, 38, 2, 88, 12, 16, 283, 5, 16, 2, 113, 103, 32, 15, 16, 2, 19, 178, 32]\n"
          ]
        }
      ]
    },
    {
      "cell_type": "code",
      "source": [
        "from sklearn.model_selection import train_test_split\n",
        "train_input, val_input, train_target, val_target = train_test_split(train_input, train_target, test_size=0.2, random_state=42)"
      ],
      "metadata": {
        "id": "nK9tUzQJk9Dy"
      },
      "execution_count": null,
      "outputs": []
    },
    {
      "cell_type": "code",
      "source": [
        "import numpy as np\n",
        "lengths = np.array([len(x) for x in train_input])"
      ],
      "metadata": {
        "id": "EItqxTLJlYwO"
      },
      "execution_count": null,
      "outputs": []
    },
    {
      "cell_type": "code",
      "source": [
        "print(np.mean(lengths), np.median(lengths))"
      ],
      "metadata": {
        "colab": {
          "base_uri": "https://localhost:8080/"
        },
        "id": "9WKBjy8klmgy",
        "outputId": "931d09bb-8615-41ed-ec62-e4f68e08c139"
      },
      "execution_count": null,
      "outputs": [
        {
          "output_type": "stream",
          "name": "stdout",
          "text": [
            "239.00925 178.0\n"
          ]
        }
      ]
    },
    {
      "cell_type": "code",
      "source": [
        "import matplotlib.pyplot as plt\n",
        "plt.hist(lengths)\n",
        "plt.xlabel('length')\n",
        "plt.ylabel('frequency')\n",
        "plt.show()"
      ],
      "metadata": {
        "colab": {
          "base_uri": "https://localhost:8080/",
          "height": 279
        },
        "id": "M93eB2w2luV6",
        "outputId": "87940b47-7ede-42ff-abc6-2582bff56e3d"
      },
      "execution_count": null,
      "outputs": [
        {
          "output_type": "display_data",
          "data": {
            "image/png": "[encoded data removed]",
            "text/plain": [
              "<Figure size 432x288 with 1 Axes>"
            ]
          },
          "metadata": {
            "needs_background": "light"
          }
        }
      ]
    },
    {
      "cell_type": "code",
      "source": [
        "from tensorflow.keras.preprocessing.sequence import pad_sequences\n",
        "train_seq = pad_sequences(train_input, maxlen=100)"
      ],
      "metadata": {
        "id": "jYR8UoXimVPx"
      },
      "execution_count": null,
      "outputs": []
    },
    {
      "cell_type": "code",
      "source": [
        "print(train_seq.shape)"
      ],
      "metadata": {
        "colab": {
          "base_uri": "https://localhost:8080/"
        },
        "id": "0uzQQ1Nrm7Gl",
        "outputId": "a3c2723b-6e8f-4520-acc9-4f7d1f9a2562"
      },
      "execution_count": null,
      "outputs": [
        {
          "output_type": "stream",
          "name": "stdout",
          "text": [
            "(20000, 100)\n"
          ]
        }
      ]
    },
    {
      "cell_type": "code",
      "source": [
        "val_seq = pad_sequences(val_input, maxlen=100)"
      ],
      "metadata": {
        "id": "jkkFe7GynApW"
      },
      "execution_count": null,
      "outputs": []
    },
    {
      "cell_type": "code",
      "source": [
        "#순환 신경망 만들기\n",
        "\n",
        "from tensorflow import keras\n",
        "model = keras.Sequential()\n",
        "model.add(keras.layers.SimpleRNN(8, input_shape=(100, 500)))\n",
        "model.add(keras.layers.Dense(1, activation='sigmoid'))"
      ],
      "metadata": {
        "id": "2xDkdVoInvHl"
      },
      "execution_count": null,
      "outputs": []
    },
    {
      "cell_type": "code",
      "source": [
        "train_oh = keras.utils.to_categorical(train_seq)"
      ],
      "metadata": {
        "id": "BueJXOujoTdh"
      },
      "execution_count": null,
      "outputs": []
    },
    {
      "cell_type": "code",
      "source": [
        "print(train_oh.shape)"
      ],
      "metadata": {
        "colab": {
          "base_uri": "https://localhost:8080/"
        },
        "id": "VDldgu5Oo16G",
        "outputId": "397787ff-65b6-4f95-a674-d3e46d7a2489"
      },
      "execution_count": null,
      "outputs": [
        {
          "output_type": "stream",
          "name": "stdout",
          "text": [
            "(20000, 100, 500)\n"
          ]
        }
      ]
    },
    {
      "cell_type": "code",
      "source": [
        "print(train_oh[0][0][:12])"
      ],
      "metadata": {
        "colab": {
          "base_uri": "https://localhost:8080/"
        },
        "id": "xRhSHgsQo6LW",
        "outputId": "9f332503-c15f-4d93-913d-d52897c93358"
      },
      "execution_count": null,
      "outputs": [
        {
          "output_type": "stream",
          "name": "stdout",
          "text": [
            "[0. 0. 0. 0. 0. 0. 0. 0. 0. 0. 1. 0.]\n"
          ]
        }
      ]
    },
    {
      "cell_type": "code",
      "source": [
        "val_oh = keras.utils.to_categorical(val_seq)"
      ],
      "metadata": {
        "id": "AiPhWsm9pFyP"
      },
      "execution_count": null,
      "outputs": []
    },
    {
      "cell_type": "code",
      "source": [
        "model.summary()"
      ],
      "metadata": {
        "colab": {
          "base_uri": "https://localhost:8080/"
        },
        "id": "si9uFTyjpOBX",
        "outputId": "d9e8ae35-ae19-4702-f851-bc4c84dcec42"
      },
      "execution_count": null,
      "outputs": [
        {
          "output_type": "stream",
          "name": "stdout",
          "text": [
            "Model: \"sequential\"\n",
            "_________________________________________________________________\n",
            " Layer (type)                Output Shape              Param #   \n",
            "=================================================================\n",
            " simple_rnn (SimpleRNN)      (None, 8)                 4072      \n",
            "                                                                 \n",
            " dense (Dense)               (None, 1)                 9         \n",
            "                                                                 \n",
            "=================================================================\n",
            "Total params: 4,081\n",
            "Trainable params: 4,081\n",
            "Non-trainable params: 0\n",
            "_________________________________________________________________\n"
          ]
        }
      ]
    },
    {
      "cell_type": "markdown",
      "source": [
        "순환신경망 학습하기"
      ],
      "metadata": {
        "id": "_7-UwRLlpycd"
      }
    },
    {
      "cell_type": "code",
      "source": [
        "rmsprop = keras.optimizers.RMSprop(learning_rate=1e-4)\n",
        "model.compile(optimizer=rmsprop, loss='binary_crossentropy', metrics=['accuracy'])\n",
        "checkpoint_cb = keras.callbacks.ModelCheckpoint('best-simplernn-model.h5')\n",
        "early_stopping_cb = keras.callbacks.EarlyStopping(patience=3, restore_best_weights=True)\n",
        "history = model.fit(train_oh, train_target, epochs=100, batch_size=64, validation_data=(val_oh, val_target), callbacks=[checkpoint_cb, early_stopping_cb])"
      ],
      "metadata": {
        "colab": {
          "base_uri": "https://localhost:8080/"
        },
        "id": "zvQCINwUpUZp",
        "outputId": "9f348b45-84dd-443a-8a29-ce730cd538f0"
      },
      "execution_count": null,
      "outputs": [
        {
          "output_type": "stream",
          "name": "stdout",
          "text": [
            "Epoch 1/100\n",
            "313/313 [==============================] - 39s 116ms/step - loss: 0.6988 - accuracy: 0.5144 - val_loss: 0.6967 - val_accuracy: 0.5136\n",
            "Epoch 2/100\n",
            "313/313 [==============================] - 34s 110ms/step - loss: 0.6872 - accuracy: 0.5469 - val_loss: 0.6813 - val_accuracy: 0.5626\n",
            "Epoch 3/100\n",
            "313/313 [==============================] - 34s 109ms/step - loss: 0.6636 - accuracy: 0.6093 - val_loss: 0.6512 - val_accuracy: 0.6386\n",
            "Epoch 4/100\n",
            "313/313 [==============================] - 34s 109ms/step - loss: 0.6376 - accuracy: 0.6603 - val_loss: 0.6308 - val_accuracy: 0.6732\n",
            "Epoch 5/100\n",
            "313/313 [==============================] - 34s 108ms/step - loss: 0.6171 - accuracy: 0.6913 - val_loss: 0.6107 - val_accuracy: 0.6990\n",
            "Epoch 6/100\n",
            "313/313 [==============================] - 34s 109ms/step - loss: 0.5984 - accuracy: 0.7117 - val_loss: 0.5943 - val_accuracy: 0.7148\n",
            "Epoch 7/100\n",
            "313/313 [==============================] - 35s 111ms/step - loss: 0.5816 - accuracy: 0.7274 - val_loss: 0.5801 - val_accuracy: 0.7256\n",
            "Epoch 8/100\n",
            "313/313 [==============================] - 34s 109ms/step - loss: 0.5662 - accuracy: 0.7408 - val_loss: 0.5673 - val_accuracy: 0.7332\n",
            "Epoch 9/100\n",
            "313/313 [==============================] - 34s 108ms/step - loss: 0.5514 - accuracy: 0.7513 - val_loss: 0.5548 - val_accuracy: 0.7396\n",
            "Epoch 10/100\n",
            "313/313 [==============================] - 34s 110ms/step - loss: 0.5381 - accuracy: 0.7599 - val_loss: 0.5472 - val_accuracy: 0.7502\n",
            "Epoch 11/100\n",
            "313/313 [==============================] - 34s 109ms/step - loss: 0.5263 - accuracy: 0.7677 - val_loss: 0.5345 - val_accuracy: 0.7556\n",
            "Epoch 12/100\n",
            "313/313 [==============================] - 34s 110ms/step - loss: 0.5155 - accuracy: 0.7723 - val_loss: 0.5271 - val_accuracy: 0.7568\n",
            "Epoch 13/100\n",
            "313/313 [==============================] - 34s 108ms/step - loss: 0.5055 - accuracy: 0.7771 - val_loss: 0.5142 - val_accuracy: 0.7678\n",
            "Epoch 14/100\n",
            "313/313 [==============================] - 34s 109ms/step - loss: 0.4964 - accuracy: 0.7830 - val_loss: 0.5092 - val_accuracy: 0.7650\n",
            "Epoch 15/100\n",
            "313/313 [==============================] - 34s 108ms/step - loss: 0.4878 - accuracy: 0.7872 - val_loss: 0.5013 - val_accuracy: 0.7698\n",
            "Epoch 16/100\n",
            "313/313 [==============================] - 35s 111ms/step - loss: 0.4803 - accuracy: 0.7893 - val_loss: 0.4970 - val_accuracy: 0.7708\n",
            "Epoch 17/100\n",
            "313/313 [==============================] - 34s 109ms/step - loss: 0.4733 - accuracy: 0.7941 - val_loss: 0.4899 - val_accuracy: 0.7740\n",
            "Epoch 18/100\n",
            "313/313 [==============================] - 35s 112ms/step - loss: 0.4668 - accuracy: 0.7976 - val_loss: 0.4860 - val_accuracy: 0.7742\n",
            "Epoch 19/100\n",
            "313/313 [==============================] - 35s 111ms/step - loss: 0.4605 - accuracy: 0.7994 - val_loss: 0.4808 - val_accuracy: 0.7782\n",
            "Epoch 20/100\n",
            "313/313 [==============================] - 34s 107ms/step - loss: 0.4552 - accuracy: 0.8005 - val_loss: 0.4773 - val_accuracy: 0.7788\n",
            "Epoch 21/100\n",
            "313/313 [==============================] - 35s 112ms/step - loss: 0.4508 - accuracy: 0.8031 - val_loss: 0.4733 - val_accuracy: 0.7842\n",
            "Epoch 22/100\n",
            "313/313 [==============================] - 34s 110ms/step - loss: 0.4462 - accuracy: 0.8055 - val_loss: 0.4703 - val_accuracy: 0.7842\n",
            "Epoch 23/100\n",
            "313/313 [==============================] - 34s 107ms/step - loss: 0.4421 - accuracy: 0.8061 - val_loss: 0.4673 - val_accuracy: 0.7844\n",
            "Epoch 24/100\n",
            "313/313 [==============================] - 35s 112ms/step - loss: 0.4381 - accuracy: 0.8079 - val_loss: 0.4705 - val_accuracy: 0.7812\n",
            "Epoch 25/100\n",
            "313/313 [==============================] - 61s 195ms/step - loss: 0.4348 - accuracy: 0.8091 - val_loss: 0.4631 - val_accuracy: 0.7846\n",
            "Epoch 26/100\n",
            "313/313 [==============================] - 46s 148ms/step - loss: 0.4314 - accuracy: 0.8115 - val_loss: 0.4693 - val_accuracy: 0.7808\n",
            "Epoch 27/100\n",
            "313/313 [==============================] - 38s 120ms/step - loss: 0.4290 - accuracy: 0.8116 - val_loss: 0.4660 - val_accuracy: 0.7822\n",
            "Epoch 28/100\n",
            "313/313 [==============================] - 34s 107ms/step - loss: 0.4260 - accuracy: 0.8120 - val_loss: 0.4574 - val_accuracy: 0.7878\n",
            "Epoch 29/100\n",
            "313/313 [==============================] - 41s 131ms/step - loss: 0.4236 - accuracy: 0.8148 - val_loss: 0.4598 - val_accuracy: 0.7868\n",
            "Epoch 30/100\n",
            "313/313 [==============================] - 44s 141ms/step - loss: 0.4215 - accuracy: 0.8153 - val_loss: 0.4617 - val_accuracy: 0.7882\n",
            "Epoch 31/100\n",
            "313/313 [==============================] - 34s 109ms/step - loss: 0.4194 - accuracy: 0.8160 - val_loss: 0.4579 - val_accuracy: 0.7866\n"
          ]
        }
      ]
    },
    {
      "cell_type": "code",
      "source": [
        "plt.plot(history.history['loss'])\n",
        "plt.plot(history.history['val_loss'])\n",
        "plt.xlabel('epoch')\n",
        "plt.ylabel('loss')\n",
        "plt.legend(['train', 'val'])\n",
        "plt.show()"
      ],
      "metadata": {
        "colab": {
          "base_uri": "https://localhost:8080/",
          "height": 279
        },
        "id": "cBQ4TA7PqjMl",
        "outputId": "b4ca25a6-f0b4-4b6d-a547-497bd775101e"
      },
      "execution_count": null,
      "outputs": [
        {
          "output_type": "display_data",
          "data": {
            "image/png": "[encoded data removed]",
            "text/plain": [
              "<Figure size 432x288 with 1 Axes>"
            ]
          },
          "metadata": {
            "needs_background": "light"
          }
        }
      ]
    },
    {
      "cell_type": "code",
      "source": [
        "#단어 임베딩 사용\n",
        "\n",
        "model2 = keras.Sequential()\n",
        "model2.add(keras.layers.Embedding(500, 16, input_length=100))\n",
        "model2.add(keras.layers.SimpleRNN(8))\n",
        "model2.add(keras.layers.Dense(1, activation='sigmoid'))"
      ],
      "metadata": {
        "id": "Mlbm-OfKucms"
      },
      "execution_count": null,
      "outputs": []
    },
    {
      "cell_type": "code",
      "source": [
        "model2.summary()"
      ],
      "metadata": {
        "colab": {
          "base_uri": "https://localhost:8080/"
        },
        "id": "Rh0j_YwRvdrU",
        "outputId": "0d91c70e-bbfb-49db-8800-65de8a8f2bf1"
      },
      "execution_count": null,
      "outputs": [
        {
          "output_type": "stream",
          "name": "stdout",
          "text": [
            "Model: \"sequential_1\"\n",
            "_________________________________________________________________\n",
            " Layer (type)                Output Shape              Param #   \n",
            "=================================================================\n",
            " embedding (Embedding)       (None, 100, 16)           8000      \n",
            "                                                                 \n",
            " simple_rnn_1 (SimpleRNN)    (None, 8)                 200       \n",
            "                                                                 \n",
            " dense_1 (Dense)             (None, 1)                 9         \n",
            "                                                                 \n",
            "=================================================================\n",
            "Total params: 8,209\n",
            "Trainable params: 8,209\n",
            "Non-trainable params: 0\n",
            "_________________________________________________________________\n"
          ]
        }
      ]
    },
    {
      "cell_type": "code",
      "source": [
        "rmsprop = keras.optimizers.RMSprop(learning_rate=1e-4)\n",
        "model2.compile(optimizer=rmsprop, loss='binary_crossentropy', metrics=['accuracy'])\n",
        "checkpoint_cb = keras.callbacks.ModelCheckpoint('best-embedding-model.h5')\n",
        "early_stopping_cb = keras.callbacks.EarlyStopping(patience=3, restore_best_weights=True)\n",
        "history = model2.fit(train_seq, train_target, epochs=100, batch_size=64, validation_data=(val_seq, val_target), callbacks=[checkpoint_cb, early_stopping_cb])"
      ],
      "metadata": {
        "colab": {
          "base_uri": "https://localhost:8080/"
        },
        "id": "9UnSLKWyvqon",
        "outputId": "c78fa74b-9b26-49cc-e40d-515c24544280"
      },
      "execution_count": null,
      "outputs": [
        {
          "output_type": "stream",
          "name": "stdout",
          "text": [
            "Epoch 1/100\n",
            "313/313 [==============================] - 45s 140ms/step - loss: 0.6900 - accuracy: 0.5346 - val_loss: 0.6836 - val_accuracy: 0.5734\n",
            "Epoch 2/100\n",
            "313/313 [==============================] - 41s 132ms/step - loss: 0.6729 - accuracy: 0.6236 - val_loss: 0.6672 - val_accuracy: 0.6460\n",
            "Epoch 3/100\n",
            "313/313 [==============================] - 42s 133ms/step - loss: 0.6546 - accuracy: 0.6838 - val_loss: 0.6496 - val_accuracy: 0.6890\n",
            "Epoch 4/100\n",
            "313/313 [==============================] - 41s 130ms/step - loss: 0.6352 - accuracy: 0.7146 - val_loss: 0.6302 - val_accuracy: 0.7104\n",
            "Epoch 5/100\n",
            "313/313 [==============================] - 41s 130ms/step - loss: 0.6153 - accuracy: 0.7308 - val_loss: 0.6126 - val_accuracy: 0.7212\n",
            "Epoch 6/100\n",
            "313/313 [==============================] - 43s 136ms/step - loss: 0.5943 - accuracy: 0.7440 - val_loss: 0.5932 - val_accuracy: 0.7360\n",
            "Epoch 7/100\n",
            "313/313 [==============================] - 44s 141ms/step - loss: 0.5737 - accuracy: 0.7592 - val_loss: 0.5733 - val_accuracy: 0.7522\n",
            "Epoch 8/100\n",
            "313/313 [==============================] - 41s 132ms/step - loss: 0.5526 - accuracy: 0.7681 - val_loss: 0.5541 - val_accuracy: 0.7600\n",
            "Epoch 9/100\n",
            "313/313 [==============================] - 41s 131ms/step - loss: 0.5322 - accuracy: 0.7760 - val_loss: 0.5329 - val_accuracy: 0.7698\n",
            "Epoch 10/100\n",
            "313/313 [==============================] - 41s 132ms/step - loss: 0.5136 - accuracy: 0.7811 - val_loss: 0.5180 - val_accuracy: 0.7688\n",
            "Epoch 11/100\n",
            "313/313 [==============================] - 41s 133ms/step - loss: 0.4975 - accuracy: 0.7878 - val_loss: 0.5071 - val_accuracy: 0.7724\n",
            "Epoch 12/100\n",
            "313/313 [==============================] - 41s 130ms/step - loss: 0.4843 - accuracy: 0.7886 - val_loss: 0.4959 - val_accuracy: 0.7764\n",
            "Epoch 13/100\n",
            "313/313 [==============================] - 41s 131ms/step - loss: 0.4731 - accuracy: 0.7941 - val_loss: 0.4896 - val_accuracy: 0.7754\n",
            "Epoch 14/100\n",
            "313/313 [==============================] - 41s 130ms/step - loss: 0.4641 - accuracy: 0.7968 - val_loss: 0.4824 - val_accuracy: 0.7794\n",
            "Epoch 15/100\n",
            "313/313 [==============================] - 41s 130ms/step - loss: 0.4568 - accuracy: 0.8000 - val_loss: 0.4783 - val_accuracy: 0.7830\n",
            "Epoch 16/100\n",
            "313/313 [==============================] - 42s 133ms/step - loss: 0.4496 - accuracy: 0.8029 - val_loss: 0.4794 - val_accuracy: 0.7756\n",
            "Epoch 17/100\n",
            "313/313 [==============================] - 42s 133ms/step - loss: 0.4440 - accuracy: 0.8054 - val_loss: 0.4878 - val_accuracy: 0.7718\n",
            "Epoch 18/100\n",
            "313/313 [==============================] - 41s 131ms/step - loss: 0.4396 - accuracy: 0.8069 - val_loss: 0.4742 - val_accuracy: 0.7816\n",
            "Epoch 19/100\n",
            "313/313 [==============================] - 41s 130ms/step - loss: 0.4342 - accuracy: 0.8102 - val_loss: 0.4808 - val_accuracy: 0.7742\n",
            "Epoch 20/100\n",
            "313/313 [==============================] - 41s 130ms/step - loss: 0.4313 - accuracy: 0.8122 - val_loss: 0.4745 - val_accuracy: 0.7850\n",
            "Epoch 21/100\n",
            "313/313 [==============================] - 41s 132ms/step - loss: 0.4274 - accuracy: 0.8138 - val_loss: 0.4725 - val_accuracy: 0.7792\n",
            "Epoch 22/100\n",
            "313/313 [==============================] - 41s 130ms/step - loss: 0.4244 - accuracy: 0.8148 - val_loss: 0.4709 - val_accuracy: 0.7830\n",
            "Epoch 23/100\n",
            "313/313 [==============================] - 41s 131ms/step - loss: 0.4215 - accuracy: 0.8161 - val_loss: 0.4779 - val_accuracy: 0.7728\n",
            "Epoch 24/100\n",
            "313/313 [==============================] - 41s 130ms/step - loss: 0.4178 - accuracy: 0.8179 - val_loss: 0.4685 - val_accuracy: 0.7808\n",
            "Epoch 25/100\n",
            "313/313 [==============================] - 41s 130ms/step - loss: 0.4162 - accuracy: 0.8187 - val_loss: 0.4695 - val_accuracy: 0.7806\n",
            "Epoch 26/100\n",
            "313/313 [==============================] - 42s 133ms/step - loss: 0.4143 - accuracy: 0.8202 - val_loss: 0.4710 - val_accuracy: 0.7804\n",
            "Epoch 27/100\n",
            "313/313 [==============================] - 41s 131ms/step - loss: 0.4113 - accuracy: 0.8219 - val_loss: 0.4723 - val_accuracy: 0.7782\n"
          ]
        }
      ]
    },
    {
      "cell_type": "code",
      "source": [
        "plt.plot(history.history['loss'])\n",
        "plt.plot(history.history['val_loss'])\n",
        "plt.xlabel('epoch')\n",
        "plt.ylabel('loss')\n",
        "plt.legend(['train', 'val'])\n",
        "plt.show()"
      ],
      "metadata": {
        "colab": {
          "base_uri": "https://localhost:8080/",
          "height": 281
        },
        "id": "uret0w87xQrt",
        "outputId": "0616cea1-95c2-4211-8d99-34513a4963f0"
      },
      "execution_count": null,
      "outputs": [
        {
          "output_type": "display_data",
          "data": {
            "image/png": "[encoded data removed]",
            "text/plain": [
              "<Figure size 432x288 with 1 Axes>"
            ]
          },
          "metadata": {
            "needs_background": "light"
          }
        }
      ]
    },
    {
      "cell_type": "markdown",
      "source": [
        "09-3 LSTM과 GRU 셀"
      ],
      "metadata": {
        "id": "CfML78I1zuhw"
      }
    },
    {
      "cell_type": "code",
      "source": [
        "#LSTM 신경망 훈련\n",
        "\n",
        "from tensorflow.keras.datasets import imdb\n",
        "from sklearn.model_selection import train_test_split\n",
        "(train_input, train_target), (test_input, test_target) = imdb.load_data(num_words=500)\n",
        "train_input, val_input, train_target, val_target = train_test_split(train_input, train_target, test_size=0.2, random_state=42)"
      ],
      "metadata": {
        "id": "X2BoE_XgxpbW"
      },
      "execution_count": null,
      "outputs": []
    },
    {
      "cell_type": "code",
      "source": [
        "from tensorflow.keras.preprocessing.sequence import pad_sequences\n",
        "train_seq = pad_sequences(train_input, maxlen=100)\n",
        "val_seq = pad_sequences(val_input, maxlen=100)"
      ],
      "metadata": {
        "id": "fLBibLtd2fZt"
      },
      "execution_count": null,
      "outputs": []
    },
    {
      "cell_type": "code",
      "source": [
        "from tensorflow import keras\n",
        "model = keras.Sequential()\n",
        "model.add(keras.layers.Embedding(500, 16, input_length=100))\n",
        "model.add(keras.layers.LSTM(8))\n",
        "model.add(keras.layers.Dense(1, activation='sigmoid'))"
      ],
      "metadata": {
        "id": "fv8kAWLv27a0"
      },
      "execution_count": null,
      "outputs": []
    },
    {
      "cell_type": "code",
      "source": [
        "model.summary()"
      ],
      "metadata": {
        "colab": {
          "base_uri": "https://localhost:8080/"
        },
        "id": "H__oxVAV3dY0",
        "outputId": "160a55ac-7a10-49d4-df53-af024e336024"
      },
      "execution_count": null,
      "outputs": [
        {
          "output_type": "stream",
          "name": "stdout",
          "text": [
            "Model: \"sequential_2\"\n",
            "_________________________________________________________________\n",
            " Layer (type)                Output Shape              Param #   \n",
            "=================================================================\n",
            " embedding_1 (Embedding)     (None, 100, 16)           8000      \n",
            "                                                                 \n",
            " lstm (LSTM)                 (None, 8)                 800       \n",
            "                                                                 \n",
            " dense_2 (Dense)             (None, 1)                 9         \n",
            "                                                                 \n",
            "=================================================================\n",
            "Total params: 8,809\n",
            "Trainable params: 8,809\n",
            "Non-trainable params: 0\n",
            "_________________________________________________________________\n"
          ]
        }
      ]
    },
    {
      "cell_type": "code",
      "source": [
        "rmsprop = keras.optimizers.RMSprop(learning_rate=1e-4)\n",
        "model.compile(optimizer=rmsprop, loss='binary_crossentropy', metrics=['accuracy'])\n",
        "checkpoint_cb = keras.callbacks.ModelCheckpoint('best-lstm-model.h5')\n",
        "early_stopping_cb = keras.callbacks.EarlyStopping(patience=3, restore_best_weights=True)\n",
        "history = model.fit(train_seq, train_target, epochs=100, batch_size=64, validation_data=(val_seq, val_target), callbacks=[checkpoint_cb, early_stopping_cb])"
      ],
      "metadata": {
        "colab": {
          "base_uri": "https://localhost:8080/"
        },
        "id": "I0LSlWMn3gEs",
        "outputId": "4e92bf4f-7f88-436a-bcaa-ffe2074f238c"
      },
      "execution_count": null,
      "outputs": [
        {
          "output_type": "stream",
          "name": "stdout",
          "text": [
            "Epoch 1/100\n",
            "313/313 [==============================] - 11s 22ms/step - loss: 0.6924 - accuracy: 0.5367 - val_loss: 0.6912 - val_accuracy: 0.5988\n",
            "Epoch 2/100\n",
            "313/313 [==============================] - 6s 21ms/step - loss: 0.6889 - accuracy: 0.6303 - val_loss: 0.6863 - val_accuracy: 0.6518\n",
            "Epoch 3/100\n",
            "313/313 [==============================] - 6s 21ms/step - loss: 0.6792 - accuracy: 0.6777 - val_loss: 0.6691 - val_accuracy: 0.7036\n",
            "Epoch 4/100\n",
            "313/313 [==============================] - 6s 21ms/step - loss: 0.6338 - accuracy: 0.7174 - val_loss: 0.5970 - val_accuracy: 0.7264\n",
            "Epoch 5/100\n",
            "313/313 [==============================] - 6s 21ms/step - loss: 0.5766 - accuracy: 0.7326 - val_loss: 0.5661 - val_accuracy: 0.7352\n",
            "Epoch 6/100\n",
            "313/313 [==============================] - 6s 21ms/step - loss: 0.5500 - accuracy: 0.7484 - val_loss: 0.5446 - val_accuracy: 0.7520\n",
            "Epoch 7/100\n",
            "313/313 [==============================] - 6s 21ms/step - loss: 0.5272 - accuracy: 0.7614 - val_loss: 0.5248 - val_accuracy: 0.7642\n",
            "Epoch 8/100\n",
            "313/313 [==============================] - 7s 21ms/step - loss: 0.5071 - accuracy: 0.7762 - val_loss: 0.5082 - val_accuracy: 0.7712\n",
            "Epoch 9/100\n",
            "313/313 [==============================] - 6s 21ms/step - loss: 0.4901 - accuracy: 0.7851 - val_loss: 0.4956 - val_accuracy: 0.7746\n",
            "Epoch 10/100\n",
            "313/313 [==============================] - 7s 21ms/step - loss: 0.4758 - accuracy: 0.7940 - val_loss: 0.4838 - val_accuracy: 0.7844\n",
            "Epoch 11/100\n",
            "313/313 [==============================] - 6s 21ms/step - loss: 0.4650 - accuracy: 0.7990 - val_loss: 0.4749 - val_accuracy: 0.7888\n",
            "Epoch 12/100\n",
            "313/313 [==============================] - 7s 21ms/step - loss: 0.4560 - accuracy: 0.8004 - val_loss: 0.4669 - val_accuracy: 0.7920\n",
            "Epoch 13/100\n",
            "313/313 [==============================] - 6s 21ms/step - loss: 0.4495 - accuracy: 0.8027 - val_loss: 0.4657 - val_accuracy: 0.7902\n",
            "Epoch 14/100\n",
            "313/313 [==============================] - 6s 21ms/step - loss: 0.4435 - accuracy: 0.8052 - val_loss: 0.4636 - val_accuracy: 0.7880\n",
            "Epoch 15/100\n",
            "313/313 [==============================] - 7s 21ms/step - loss: 0.4390 - accuracy: 0.8061 - val_loss: 0.4547 - val_accuracy: 0.7950\n",
            "Epoch 16/100\n",
            "313/313 [==============================] - 6s 21ms/step - loss: 0.4349 - accuracy: 0.8080 - val_loss: 0.4514 - val_accuracy: 0.7940\n",
            "Epoch 17/100\n",
            "313/313 [==============================] - 6s 21ms/step - loss: 0.4317 - accuracy: 0.8089 - val_loss: 0.4526 - val_accuracy: 0.7896\n",
            "Epoch 18/100\n",
            "313/313 [==============================] - 6s 21ms/step - loss: 0.4285 - accuracy: 0.8109 - val_loss: 0.4470 - val_accuracy: 0.7942\n",
            "Epoch 19/100\n",
            "313/313 [==============================] - 6s 21ms/step - loss: 0.4263 - accuracy: 0.8113 - val_loss: 0.4468 - val_accuracy: 0.7964\n",
            "Epoch 20/100\n",
            "313/313 [==============================] - 7s 21ms/step - loss: 0.4237 - accuracy: 0.8095 - val_loss: 0.4440 - val_accuracy: 0.8006\n",
            "Epoch 21/100\n",
            "313/313 [==============================] - 6s 21ms/step - loss: 0.4217 - accuracy: 0.8126 - val_loss: 0.4424 - val_accuracy: 0.7988\n",
            "Epoch 22/100\n",
            "313/313 [==============================] - 6s 21ms/step - loss: 0.4201 - accuracy: 0.8101 - val_loss: 0.4415 - val_accuracy: 0.7986\n",
            "Epoch 23/100\n",
            "313/313 [==============================] - 6s 21ms/step - loss: 0.4183 - accuracy: 0.8116 - val_loss: 0.4398 - val_accuracy: 0.7984\n",
            "Epoch 24/100\n",
            "313/313 [==============================] - 6s 21ms/step - loss: 0.4172 - accuracy: 0.8118 - val_loss: 0.4473 - val_accuracy: 0.7858\n",
            "Epoch 25/100\n",
            "313/313 [==============================] - 6s 21ms/step - loss: 0.4156 - accuracy: 0.8142 - val_loss: 0.4384 - val_accuracy: 0.7980\n",
            "Epoch 26/100\n",
            "313/313 [==============================] - 6s 21ms/step - loss: 0.4145 - accuracy: 0.8130 - val_loss: 0.4370 - val_accuracy: 0.8014\n",
            "Epoch 27/100\n",
            "313/313 [==============================] - 7s 21ms/step - loss: 0.4130 - accuracy: 0.8148 - val_loss: 0.4369 - val_accuracy: 0.8018\n",
            "Epoch 28/100\n",
            "313/313 [==============================] - 7s 21ms/step - loss: 0.4121 - accuracy: 0.8137 - val_loss: 0.4354 - val_accuracy: 0.8006\n",
            "Epoch 29/100\n",
            "313/313 [==============================] - 6s 21ms/step - loss: 0.4108 - accuracy: 0.8139 - val_loss: 0.4361 - val_accuracy: 0.7976\n",
            "Epoch 30/100\n",
            "313/313 [==============================] - 7s 21ms/step - loss: 0.4102 - accuracy: 0.8144 - val_loss: 0.4361 - val_accuracy: 0.8030\n",
            "Epoch 31/100\n",
            "313/313 [==============================] - 7s 21ms/step - loss: 0.4093 - accuracy: 0.8152 - val_loss: 0.4336 - val_accuracy: 0.8026\n",
            "Epoch 32/100\n",
            "313/313 [==============================] - 7s 21ms/step - loss: 0.4084 - accuracy: 0.8156 - val_loss: 0.4356 - val_accuracy: 0.8014\n",
            "Epoch 33/100\n",
            "313/313 [==============================] - 7s 21ms/step - loss: 0.4076 - accuracy: 0.8158 - val_loss: 0.4340 - val_accuracy: 0.8004\n",
            "Epoch 34/100\n",
            "313/313 [==============================] - 6s 21ms/step - loss: 0.4069 - accuracy: 0.8158 - val_loss: 0.4345 - val_accuracy: 0.8048\n"
          ]
        }
      ]
    },
    {
      "cell_type": "code",
      "source": [
        "plt.plot(history.history['loss'])\n",
        "plt.plot(history.history['val_loss'])\n",
        "plt.xlabel('epoch')\n",
        "plt.ylabel('loss')\n",
        "plt.legend(['train', 'val'])\n",
        "plt.show()"
      ],
      "metadata": {
        "colab": {
          "base_uri": "https://localhost:8080/",
          "height": 279
        },
        "id": "VTzWLcHU33I0",
        "outputId": "6407d2ff-d412-4451-fb31-8fddb9fcd2a3"
      },
      "execution_count": null,
      "outputs": [
        {
          "output_type": "display_data",
          "data": {
            "image/png": "[encoded data removed]",
            "text/plain": [
              "<Figure size 432x288 with 1 Axes>"
            ]
          },
          "metadata": {
            "needs_background": "light"
          }
        }
      ]
    },
    {
      "cell_type": "code",
      "source": [
        "#순환증에 드롭아웃 적용하기\n",
        "\n",
        "model2 = keras.Sequential()\n",
        "model2.add(keras.layers.Embedding(500, 16, input_length=100))\n",
        "model2.add(keras.layers.LSTM(8, dropout=0.3))\n",
        "model2.add(keras.layers.Dense(1, activation='sigmoid'))"
      ],
      "metadata": {
        "id": "wIXk9tMc4L08"
      },
      "execution_count": null,
      "outputs": []
    },
    {
      "cell_type": "code",
      "source": [
        "rmsprop = keras.optimizers.RMSprop(learning_rate=1e-4)\n",
        "model2.compile(optimizer=rmsprop, loss='binary_crossentropy', metrics=['accuracy'])\n",
        "checkpoint_cb = keras.callbacks.ModelCheckpoint('best-dropout-model.h5')\n",
        "early_stopping_cb = keras.callbacks.EarlyStopping(patience=3, restore_best_weights=True)\n",
        "history = model2.fit(train_seq, train_target, epochs=100, batch_size=64, validation_data=(val_seq, val_target), callbacks=[checkpoint_cb, early_stopping_cb])"
      ],
      "metadata": {
        "colab": {
          "base_uri": "https://localhost:8080/"
        },
        "id": "ttCUcwiB45tM",
        "outputId": "7bf971c8-9ca4-4324-d34d-6ffebb420e97"
      },
      "execution_count": null,
      "outputs": [
        {
          "output_type": "stream",
          "name": "stdout",
          "text": [
            "Epoch 1/100\n",
            "313/313 [==============================] - 9s 23ms/step - loss: 0.6918 - accuracy: 0.5554 - val_loss: 0.6907 - val_accuracy: 0.5796\n",
            "Epoch 2/100\n",
            "313/313 [==============================] - 7s 21ms/step - loss: 0.6886 - accuracy: 0.6080 - val_loss: 0.6865 - val_accuracy: 0.6196\n",
            "Epoch 3/100\n",
            "313/313 [==============================] - 7s 21ms/step - loss: 0.6813 - accuracy: 0.6390 - val_loss: 0.6750 - val_accuracy: 0.6418\n",
            "Epoch 4/100\n",
            "313/313 [==============================] - 6s 21ms/step - loss: 0.6476 - accuracy: 0.6582 - val_loss: 0.6174 - val_accuracy: 0.6952\n",
            "Epoch 5/100\n",
            "313/313 [==============================] - 6s 21ms/step - loss: 0.5950 - accuracy: 0.7250 - val_loss: 0.5841 - val_accuracy: 0.7386\n",
            "Epoch 6/100\n",
            "313/313 [==============================] - 7s 21ms/step - loss: 0.5716 - accuracy: 0.7438 - val_loss: 0.5646 - val_accuracy: 0.7488\n",
            "Epoch 7/100\n",
            "313/313 [==============================] - 6s 21ms/step - loss: 0.5529 - accuracy: 0.7545 - val_loss: 0.5478 - val_accuracy: 0.7590\n",
            "Epoch 8/100\n",
            "313/313 [==============================] - 6s 21ms/step - loss: 0.5381 - accuracy: 0.7630 - val_loss: 0.5335 - val_accuracy: 0.7608\n",
            "Epoch 9/100\n",
            "313/313 [==============================] - 6s 21ms/step - loss: 0.5240 - accuracy: 0.7675 - val_loss: 0.5194 - val_accuracy: 0.7716\n",
            "Epoch 10/100\n",
            "313/313 [==============================] - 6s 21ms/step - loss: 0.5126 - accuracy: 0.7697 - val_loss: 0.5083 - val_accuracy: 0.7748\n",
            "Epoch 11/100\n",
            "313/313 [==============================] - 6s 21ms/step - loss: 0.5016 - accuracy: 0.7765 - val_loss: 0.4978 - val_accuracy: 0.7776\n",
            "Epoch 12/100\n",
            "313/313 [==============================] - 6s 21ms/step - loss: 0.4910 - accuracy: 0.7791 - val_loss: 0.4896 - val_accuracy: 0.7820\n",
            "Epoch 13/100\n",
            "313/313 [==============================] - 7s 21ms/step - loss: 0.4823 - accuracy: 0.7828 - val_loss: 0.4823 - val_accuracy: 0.7846\n",
            "Epoch 14/100\n",
            "313/313 [==============================] - 7s 21ms/step - loss: 0.4740 - accuracy: 0.7868 - val_loss: 0.4757 - val_accuracy: 0.7858\n",
            "Epoch 15/100\n",
            "313/313 [==============================] - 7s 21ms/step - loss: 0.4652 - accuracy: 0.7915 - val_loss: 0.4676 - val_accuracy: 0.7912\n",
            "Epoch 16/100\n",
            "313/313 [==============================] - 7s 21ms/step - loss: 0.4582 - accuracy: 0.7942 - val_loss: 0.4643 - val_accuracy: 0.7856\n",
            "Epoch 17/100\n",
            "313/313 [==============================] - 7s 21ms/step - loss: 0.4541 - accuracy: 0.7961 - val_loss: 0.4584 - val_accuracy: 0.7910\n",
            "Epoch 18/100\n",
            "313/313 [==============================] - 6s 21ms/step - loss: 0.4487 - accuracy: 0.7980 - val_loss: 0.4539 - val_accuracy: 0.7930\n",
            "Epoch 19/100\n",
            "313/313 [==============================] - 7s 21ms/step - loss: 0.4446 - accuracy: 0.7996 - val_loss: 0.4511 - val_accuracy: 0.7910\n",
            "Epoch 20/100\n",
            "313/313 [==============================] - 7s 21ms/step - loss: 0.4413 - accuracy: 0.8005 - val_loss: 0.4481 - val_accuracy: 0.7918\n",
            "Epoch 21/100\n",
            "313/313 [==============================] - 7s 21ms/step - loss: 0.4367 - accuracy: 0.8051 - val_loss: 0.4480 - val_accuracy: 0.7956\n",
            "Epoch 22/100\n",
            "313/313 [==============================] - 7s 21ms/step - loss: 0.4345 - accuracy: 0.8035 - val_loss: 0.4426 - val_accuracy: 0.7964\n",
            "Epoch 23/100\n",
            "313/313 [==============================] - 7s 21ms/step - loss: 0.4319 - accuracy: 0.8047 - val_loss: 0.4406 - val_accuracy: 0.7956\n",
            "Epoch 24/100\n",
            "313/313 [==============================] - 7s 21ms/step - loss: 0.4300 - accuracy: 0.8068 - val_loss: 0.4397 - val_accuracy: 0.7952\n",
            "Epoch 25/100\n",
            "313/313 [==============================] - 7s 21ms/step - loss: 0.4272 - accuracy: 0.8056 - val_loss: 0.4382 - val_accuracy: 0.8000\n",
            "Epoch 26/100\n",
            "313/313 [==============================] - 7s 21ms/step - loss: 0.4263 - accuracy: 0.8078 - val_loss: 0.4366 - val_accuracy: 0.8006\n",
            "Epoch 27/100\n",
            "313/313 [==============================] - 7s 21ms/step - loss: 0.4235 - accuracy: 0.8095 - val_loss: 0.4367 - val_accuracy: 0.7994\n",
            "Epoch 28/100\n",
            "313/313 [==============================] - 7s 21ms/step - loss: 0.4226 - accuracy: 0.8077 - val_loss: 0.4352 - val_accuracy: 0.8000\n",
            "Epoch 29/100\n",
            "313/313 [==============================] - 7s 21ms/step - loss: 0.4223 - accuracy: 0.8080 - val_loss: 0.4356 - val_accuracy: 0.7996\n",
            "Epoch 30/100\n",
            "313/313 [==============================] - 7s 21ms/step - loss: 0.4208 - accuracy: 0.8104 - val_loss: 0.4343 - val_accuracy: 0.8012\n",
            "Epoch 31/100\n",
            "313/313 [==============================] - 7s 21ms/step - loss: 0.4188 - accuracy: 0.8100 - val_loss: 0.4325 - val_accuracy: 0.8018\n",
            "Epoch 32/100\n",
            "313/313 [==============================] - 7s 21ms/step - loss: 0.4184 - accuracy: 0.8102 - val_loss: 0.4324 - val_accuracy: 0.8016\n",
            "Epoch 33/100\n",
            "313/313 [==============================] - 7s 21ms/step - loss: 0.4194 - accuracy: 0.8090 - val_loss: 0.4319 - val_accuracy: 0.8004\n",
            "Epoch 34/100\n",
            "313/313 [==============================] - 7s 21ms/step - loss: 0.4175 - accuracy: 0.8101 - val_loss: 0.4311 - val_accuracy: 0.8014\n",
            "Epoch 35/100\n",
            "313/313 [==============================] - 7s 21ms/step - loss: 0.4169 - accuracy: 0.8114 - val_loss: 0.4313 - val_accuracy: 0.8008\n",
            "Epoch 36/100\n",
            "313/313 [==============================] - 7s 21ms/step - loss: 0.4160 - accuracy: 0.8109 - val_loss: 0.4318 - val_accuracy: 0.7990\n",
            "Epoch 37/100\n",
            "313/313 [==============================] - 7s 21ms/step - loss: 0.4164 - accuracy: 0.8128 - val_loss: 0.4312 - val_accuracy: 0.8022\n"
          ]
        }
      ]
    },
    {
      "cell_type": "code",
      "source": [
        "plt.plot(history.history['loss'])\n",
        "plt.plot(history.history['val_loss'])\n",
        "plt.xlabel('epoch')\n",
        "plt.ylabel('loss')\n",
        "plt.legend(['train', 'val'])\n",
        "plt.show()"
      ],
      "metadata": {
        "colab": {
          "base_uri": "https://localhost:8080/",
          "height": 279
        },
        "id": "5qd3xkJj5H_0",
        "outputId": "3eaefc40-65fb-4a31-b542-9f3996ce1bd1"
      },
      "execution_count": null,
      "outputs": [
        {
          "output_type": "display_data",
          "data": {
            "image/png": "[encoded data removed]",
            "text/plain": [
              "<Figure size 432x288 with 1 Axes>"
            ]
          },
          "metadata": {
            "needs_background": "light"
          }
        }
      ]
    },
    {
      "cell_type": "code",
      "source": [
        "#2개의 층을 연결하기\n",
        "\n",
        "model3 = keras.Sequential()\n",
        "model3.add(keras.layers.Embedding(500, 16, input_length=100))\n",
        "model3.add(keras.layers.LSTM(8, dropout=0.3, return_sequences=True))\n",
        "model3.add(keras.layers.LSTM(8, dropout=0.3))\n",
        "model3.add(keras.layers.Dense(1, activation='sigmoid'))"
      ],
      "metadata": {
        "id": "5WDnFclf5bQM"
      },
      "execution_count": null,
      "outputs": []
    },
    {
      "cell_type": "code",
      "source": [
        "model3.summary()"
      ],
      "metadata": {
        "colab": {
          "base_uri": "https://localhost:8080/"
        },
        "id": "3PHD8nFW55Ct",
        "outputId": "2dac7ae9-4030-443e-8e6a-d6c0fc2428ca"
      },
      "execution_count": null,
      "outputs": [
        {
          "output_type": "stream",
          "name": "stdout",
          "text": [
            "Model: \"sequential_4\"\n",
            "_________________________________________________________________\n",
            " Layer (type)                Output Shape              Param #   \n",
            "=================================================================\n",
            " embedding_3 (Embedding)     (None, 100, 16)           8000      \n",
            "                                                                 \n",
            " lstm_2 (LSTM)               (None, 100, 8)            800       \n",
            "                                                                 \n",
            " lstm_3 (LSTM)               (None, 8)                 544       \n",
            "                                                                 \n",
            " dense_4 (Dense)             (None, 1)                 9         \n",
            "                                                                 \n",
            "=================================================================\n",
            "Total params: 9,353\n",
            "Trainable params: 9,353\n",
            "Non-trainable params: 0\n",
            "_________________________________________________________________\n"
          ]
        }
      ]
    },
    {
      "cell_type": "code",
      "source": [
        "rmsprop = keras.optimizers.RMSprop(learning_rate=1e-4)\n",
        "model3.compile(optimizer=rmsprop, loss='binary_crossentropy', metrics=['accuracy'])\n",
        "checkpoint_cb = keras.callbacks.ModelCheckpoint('best-2rnn-model.h5')\n",
        "early_stopping_cb = keras.callbacks.EarlyStopping(patience=3, restore_best_weights=True)\n",
        "history = model3.fit(train_seq, train_target, epochs=100, batch_size=64, validation_data=(val_seq, val_target), callbacks=[checkpoint_cb, early_stopping_cb])"
      ],
      "metadata": {
        "colab": {
          "base_uri": "https://localhost:8080/"
        },
        "id": "0WjhJHCV58et",
        "outputId": "184fad76-63ae-4ad1-bb09-fc56186594a7"
      },
      "execution_count": null,
      "outputs": [
        {
          "output_type": "stream",
          "name": "stdout",
          "text": [
            "Epoch 1/100\n",
            "313/313 [==============================] - 18s 46ms/step - loss: 0.6927 - accuracy: 0.5342 - val_loss: 0.6923 - val_accuracy: 0.5112\n",
            "Epoch 2/100\n",
            "313/313 [==============================] - 13s 42ms/step - loss: 0.6899 - accuracy: 0.5877 - val_loss: 0.6866 - val_accuracy: 0.6364\n",
            "Epoch 3/100\n",
            "313/313 [==============================] - 13s 42ms/step - loss: 0.6726 - accuracy: 0.6433 - val_loss: 0.6496 - val_accuracy: 0.6720\n",
            "Epoch 4/100\n",
            "313/313 [==============================] - 13s 42ms/step - loss: 0.6063 - accuracy: 0.6966 - val_loss: 0.5738 - val_accuracy: 0.7154\n",
            "Epoch 5/100\n",
            "313/313 [==============================] - 13s 42ms/step - loss: 0.5621 - accuracy: 0.7232 - val_loss: 0.5451 - val_accuracy: 0.7354\n",
            "Epoch 6/100\n",
            "313/313 [==============================] - 13s 43ms/step - loss: 0.5401 - accuracy: 0.7426 - val_loss: 0.5254 - val_accuracy: 0.7508\n",
            "Epoch 7/100\n",
            "313/313 [==============================] - 13s 42ms/step - loss: 0.5227 - accuracy: 0.7515 - val_loss: 0.5213 - val_accuracy: 0.7510\n",
            "Epoch 8/100\n",
            "313/313 [==============================] - 13s 42ms/step - loss: 0.5085 - accuracy: 0.7618 - val_loss: 0.4972 - val_accuracy: 0.7676\n",
            "Epoch 9/100\n",
            "313/313 [==============================] - 13s 42ms/step - loss: 0.4960 - accuracy: 0.7668 - val_loss: 0.4864 - val_accuracy: 0.7712\n",
            "Epoch 10/100\n",
            "313/313 [==============================] - 13s 42ms/step - loss: 0.4840 - accuracy: 0.7767 - val_loss: 0.4805 - val_accuracy: 0.7772\n",
            "Epoch 11/100\n",
            "313/313 [==============================] - 13s 42ms/step - loss: 0.4782 - accuracy: 0.7777 - val_loss: 0.4735 - val_accuracy: 0.7794\n",
            "Epoch 12/100\n",
            "313/313 [==============================] - 13s 42ms/step - loss: 0.4727 - accuracy: 0.7822 - val_loss: 0.4730 - val_accuracy: 0.7786\n",
            "Epoch 13/100\n",
            "313/313 [==============================] - 13s 42ms/step - loss: 0.4674 - accuracy: 0.7840 - val_loss: 0.4631 - val_accuracy: 0.7832\n",
            "Epoch 14/100\n",
            "313/313 [==============================] - 13s 42ms/step - loss: 0.4625 - accuracy: 0.7857 - val_loss: 0.4603 - val_accuracy: 0.7834\n",
            "Epoch 15/100\n",
            "313/313 [==============================] - 13s 43ms/step - loss: 0.4567 - accuracy: 0.7904 - val_loss: 0.4620 - val_accuracy: 0.7832\n",
            "Epoch 16/100\n",
            "313/313 [==============================] - 13s 42ms/step - loss: 0.4555 - accuracy: 0.7891 - val_loss: 0.4626 - val_accuracy: 0.7860\n",
            "Epoch 17/100\n",
            "313/313 [==============================] - 13s 43ms/step - loss: 0.4508 - accuracy: 0.7894 - val_loss: 0.4549 - val_accuracy: 0.7898\n",
            "Epoch 18/100\n",
            "313/313 [==============================] - 13s 43ms/step - loss: 0.4507 - accuracy: 0.7889 - val_loss: 0.4531 - val_accuracy: 0.7850\n",
            "Epoch 19/100\n",
            "313/313 [==============================] - 13s 42ms/step - loss: 0.4472 - accuracy: 0.7926 - val_loss: 0.4532 - val_accuracy: 0.7920\n",
            "Epoch 20/100\n",
            "313/313 [==============================] - 13s 42ms/step - loss: 0.4427 - accuracy: 0.7947 - val_loss: 0.4492 - val_accuracy: 0.7958\n",
            "Epoch 21/100\n",
            "313/313 [==============================] - 13s 43ms/step - loss: 0.4431 - accuracy: 0.7972 - val_loss: 0.4464 - val_accuracy: 0.7918\n",
            "Epoch 22/100\n",
            "313/313 [==============================] - 13s 42ms/step - loss: 0.4386 - accuracy: 0.7962 - val_loss: 0.4447 - val_accuracy: 0.7912\n",
            "Epoch 23/100\n",
            "313/313 [==============================] - 13s 42ms/step - loss: 0.4398 - accuracy: 0.7950 - val_loss: 0.4432 - val_accuracy: 0.7938\n",
            "Epoch 24/100\n",
            "313/313 [==============================] - 13s 42ms/step - loss: 0.4334 - accuracy: 0.8009 - val_loss: 0.4425 - val_accuracy: 0.7952\n",
            "Epoch 25/100\n",
            "313/313 [==============================] - 13s 42ms/step - loss: 0.4340 - accuracy: 0.8005 - val_loss: 0.4427 - val_accuracy: 0.7872\n",
            "Epoch 26/100\n",
            "313/313 [==============================] - 13s 43ms/step - loss: 0.4334 - accuracy: 0.7994 - val_loss: 0.4400 - val_accuracy: 0.7924\n",
            "Epoch 27/100\n",
            "313/313 [==============================] - 13s 43ms/step - loss: 0.4318 - accuracy: 0.7997 - val_loss: 0.4389 - val_accuracy: 0.7946\n",
            "Epoch 28/100\n",
            "313/313 [==============================] - 13s 43ms/step - loss: 0.4299 - accuracy: 0.8008 - val_loss: 0.4406 - val_accuracy: 0.7972\n",
            "Epoch 29/100\n",
            "313/313 [==============================] - 13s 43ms/step - loss: 0.4278 - accuracy: 0.8041 - val_loss: 0.4372 - val_accuracy: 0.7966\n",
            "Epoch 30/100\n",
            "313/313 [==============================] - 13s 42ms/step - loss: 0.4281 - accuracy: 0.7995 - val_loss: 0.4384 - val_accuracy: 0.7988\n",
            "Epoch 31/100\n",
            "313/313 [==============================] - 13s 43ms/step - loss: 0.4231 - accuracy: 0.8049 - val_loss: 0.4360 - val_accuracy: 0.7984\n",
            "Epoch 32/100\n",
            "313/313 [==============================] - 13s 42ms/step - loss: 0.4242 - accuracy: 0.8054 - val_loss: 0.4389 - val_accuracy: 0.8012\n",
            "Epoch 33/100\n",
            "313/313 [==============================] - 13s 43ms/step - loss: 0.4240 - accuracy: 0.8042 - val_loss: 0.4357 - val_accuracy: 0.7960\n",
            "Epoch 34/100\n",
            "313/313 [==============================] - 13s 42ms/step - loss: 0.4232 - accuracy: 0.8051 - val_loss: 0.4346 - val_accuracy: 0.7994\n",
            "Epoch 35/100\n",
            "313/313 [==============================] - 13s 42ms/step - loss: 0.4213 - accuracy: 0.8038 - val_loss: 0.4348 - val_accuracy: 0.8002\n",
            "Epoch 36/100\n",
            "313/313 [==============================] - 13s 42ms/step - loss: 0.4215 - accuracy: 0.8055 - val_loss: 0.4413 - val_accuracy: 0.7966\n",
            "Epoch 37/100\n",
            "313/313 [==============================] - 13s 43ms/step - loss: 0.4205 - accuracy: 0.8051 - val_loss: 0.4342 - val_accuracy: 0.8032\n",
            "Epoch 38/100\n",
            "313/313 [==============================] - 13s 42ms/step - loss: 0.4172 - accuracy: 0.8088 - val_loss: 0.4322 - val_accuracy: 0.8038\n",
            "Epoch 39/100\n",
            "313/313 [==============================] - 13s 42ms/step - loss: 0.4191 - accuracy: 0.8085 - val_loss: 0.4320 - val_accuracy: 0.8022\n",
            "Epoch 40/100\n",
            "313/313 [==============================] - 13s 43ms/step - loss: 0.4167 - accuracy: 0.8083 - val_loss: 0.4322 - val_accuracy: 0.8000\n",
            "Epoch 41/100\n",
            "313/313 [==============================] - 13s 43ms/step - loss: 0.4158 - accuracy: 0.8083 - val_loss: 0.4314 - val_accuracy: 0.8010\n",
            "Epoch 42/100\n",
            "313/313 [==============================] - 13s 43ms/step - loss: 0.4126 - accuracy: 0.8118 - val_loss: 0.4336 - val_accuracy: 0.8010\n",
            "Epoch 43/100\n",
            "313/313 [==============================] - 13s 42ms/step - loss: 0.4159 - accuracy: 0.8095 - val_loss: 0.4297 - val_accuracy: 0.8040\n",
            "Epoch 44/100\n",
            "313/313 [==============================] - 13s 42ms/step - loss: 0.4141 - accuracy: 0.8099 - val_loss: 0.4320 - val_accuracy: 0.8018\n",
            "Epoch 45/100\n",
            "313/313 [==============================] - 13s 42ms/step - loss: 0.4139 - accuracy: 0.8086 - val_loss: 0.4299 - val_accuracy: 0.8014\n",
            "Epoch 46/100\n",
            "313/313 [==============================] - 13s 42ms/step - loss: 0.4160 - accuracy: 0.8073 - val_loss: 0.4288 - val_accuracy: 0.8030\n",
            "Epoch 47/100\n",
            "313/313 [==============================] - 13s 43ms/step - loss: 0.4130 - accuracy: 0.8102 - val_loss: 0.4322 - val_accuracy: 0.8012\n",
            "Epoch 48/100\n",
            "313/313 [==============================] - 13s 43ms/step - loss: 0.4117 - accuracy: 0.8108 - val_loss: 0.4342 - val_accuracy: 0.7966\n",
            "Epoch 49/100\n",
            "313/313 [==============================] - 13s 42ms/step - loss: 0.4111 - accuracy: 0.8132 - val_loss: 0.4303 - val_accuracy: 0.7998\n"
          ]
        }
      ]
    },
    {
      "cell_type": "code",
      "source": [
        "plt.plot(history.history['loss'])\n",
        "plt.plot(history.history['val_loss'])\n",
        "plt.xlabel('epoch')\n",
        "plt.ylabel('loss')\n",
        "plt.legend(['train', 'val'])\n",
        "plt.show()"
      ],
      "metadata": {
        "colab": {
          "base_uri": "https://localhost:8080/",
          "height": 279
        },
        "id": "8GwUOGCX6Udt",
        "outputId": "5e4512f8-f03a-4bc9-a86f-126b42c3acd5"
      },
      "execution_count": null,
      "outputs": [
        {
          "output_type": "display_data",
          "data": {
            "image/png": "[encoded data removed]",
            "text/plain": [
              "<Figure size 432x288 with 1 Axes>"
            ]
          },
          "metadata": {
            "needs_background": "light"
          }
        }
      ]
    },
    {
      "cell_type": "code",
      "source": [
        "#GRU 신경망 훈련하기\n",
        "\n",
        "model4 = keras.Sequential()\n",
        "model4.add(keras.layers.Embedding(500, 16, input_length=100))\n",
        "model4.add(keras.layers.GRU(8))\n",
        "model4.add(keras.layers.Dense(1, activation='sigmoid'))"
      ],
      "metadata": {
        "id": "Lh5Qy0g36oFc"
      },
      "execution_count": null,
      "outputs": []
    },
    {
      "cell_type": "code",
      "source": [
        "model4.summary()"
      ],
      "metadata": {
        "colab": {
          "base_uri": "https://localhost:8080/"
        },
        "id": "L7ydRUFu8oiE",
        "outputId": "e19258ca-255c-4d3d-aab1-d39a4a2056aa"
      },
      "execution_count": null,
      "outputs": [
        {
          "output_type": "stream",
          "name": "stdout",
          "text": [
            "Model: \"sequential_5\"\n",
            "_________________________________________________________________\n",
            " Layer (type)                Output Shape              Param #   \n",
            "=================================================================\n",
            " embedding_4 (Embedding)     (None, 100, 16)           8000      \n",
            "                                                                 \n",
            " gru (GRU)                   (None, 8)                 624       \n",
            "                                                                 \n",
            " dense_5 (Dense)             (None, 1)                 9         \n",
            "                                                                 \n",
            "=================================================================\n",
            "Total params: 8,633\n",
            "Trainable params: 8,633\n",
            "Non-trainable params: 0\n",
            "_________________________________________________________________\n"
          ]
        }
      ]
    },
    {
      "cell_type": "code",
      "source": [
        "rmsprop = keras.optimizers.RMSprop(learning_rate=1e-4)\n",
        "model4.compile(optimizer=rmsprop, loss='binary_crossentropy', metrics=['accuracy'])\n",
        "checkpoint_cb = keras.callbacks.ModelCheckpoint('best-gru-model.h5')\n",
        "early_stopping_cb = keras.callbacks.EarlyStopping(patience=3, restore_best_weights=True)\n",
        "history = model4.fit(train_seq, train_target, epochs=100, batch_size=64, validation_data=(val_seq, val_target), callbacks=[checkpoint_cb, early_stopping_cb])"
      ],
      "metadata": {
        "colab": {
          "base_uri": "https://localhost:8080/"
        },
        "id": "HuLoIkbH8qTL",
        "outputId": "286a6f7d-2b09-4e0b-c1d3-8c9ce616f060"
      },
      "execution_count": null,
      "outputs": [
        {
          "output_type": "stream",
          "name": "stdout",
          "text": [
            "Epoch 1/100\n",
            "313/313 [==============================] - 9s 22ms/step - loss: 0.6925 - accuracy: 0.5174 - val_loss: 0.6916 - val_accuracy: 0.5364\n",
            "Epoch 2/100\n",
            "313/313 [==============================] - 6s 20ms/step - loss: 0.6904 - accuracy: 0.5659 - val_loss: 0.6896 - val_accuracy: 0.5710\n",
            "Epoch 3/100\n",
            "313/313 [==============================] - 6s 20ms/step - loss: 0.6873 - accuracy: 0.5951 - val_loss: 0.6860 - val_accuracy: 0.5818\n",
            "Epoch 4/100\n",
            "313/313 [==============================] - 6s 21ms/step - loss: 0.6824 - accuracy: 0.6063 - val_loss: 0.6805 - val_accuracy: 0.5978\n",
            "Epoch 5/100\n",
            "313/313 [==============================] - 6s 20ms/step - loss: 0.6750 - accuracy: 0.6184 - val_loss: 0.6725 - val_accuracy: 0.6080\n",
            "Epoch 6/100\n",
            "313/313 [==============================] - 6s 21ms/step - loss: 0.6641 - accuracy: 0.6321 - val_loss: 0.6610 - val_accuracy: 0.6168\n",
            "Epoch 7/100\n",
            "313/313 [==============================] - 6s 21ms/step - loss: 0.6489 - accuracy: 0.6465 - val_loss: 0.6442 - val_accuracy: 0.6344\n",
            "Epoch 8/100\n",
            "313/313 [==============================] - 6s 21ms/step - loss: 0.6263 - accuracy: 0.6647 - val_loss: 0.6201 - val_accuracy: 0.6638\n",
            "Epoch 9/100\n",
            "313/313 [==============================] - 6s 20ms/step - loss: 0.5912 - accuracy: 0.6888 - val_loss: 0.5792 - val_accuracy: 0.7002\n",
            "Epoch 10/100\n",
            "313/313 [==============================] - 6s 20ms/step - loss: 0.5451 - accuracy: 0.7245 - val_loss: 0.5389 - val_accuracy: 0.7308\n",
            "Epoch 11/100\n",
            "313/313 [==============================] - 6s 21ms/step - loss: 0.5148 - accuracy: 0.7501 - val_loss: 0.5215 - val_accuracy: 0.7438\n",
            "Epoch 12/100\n",
            "313/313 [==============================] - 6s 21ms/step - loss: 0.5008 - accuracy: 0.7605 - val_loss: 0.5109 - val_accuracy: 0.7530\n",
            "Epoch 13/100\n",
            "313/313 [==============================] - 6s 20ms/step - loss: 0.4900 - accuracy: 0.7693 - val_loss: 0.5031 - val_accuracy: 0.7634\n",
            "Epoch 14/100\n",
            "313/313 [==============================] - 6s 20ms/step - loss: 0.4813 - accuracy: 0.7709 - val_loss: 0.4943 - val_accuracy: 0.7666\n",
            "Epoch 15/100\n",
            "313/313 [==============================] - 6s 20ms/step - loss: 0.4733 - accuracy: 0.7786 - val_loss: 0.4871 - val_accuracy: 0.7732\n",
            "Epoch 16/100\n",
            "313/313 [==============================] - 6s 20ms/step - loss: 0.4668 - accuracy: 0.7842 - val_loss: 0.4821 - val_accuracy: 0.7772\n",
            "Epoch 17/100\n",
            "313/313 [==============================] - 6s 21ms/step - loss: 0.4606 - accuracy: 0.7861 - val_loss: 0.4755 - val_accuracy: 0.7782\n",
            "Epoch 18/100\n",
            "313/313 [==============================] - 6s 20ms/step - loss: 0.4555 - accuracy: 0.7890 - val_loss: 0.4708 - val_accuracy: 0.7796\n",
            "Epoch 19/100\n",
            "313/313 [==============================] - 6s 20ms/step - loss: 0.4507 - accuracy: 0.7929 - val_loss: 0.4662 - val_accuracy: 0.7814\n",
            "Epoch 20/100\n",
            "313/313 [==============================] - 6s 20ms/step - loss: 0.4461 - accuracy: 0.7964 - val_loss: 0.4635 - val_accuracy: 0.7816\n",
            "Epoch 21/100\n",
            "313/313 [==============================] - 6s 21ms/step - loss: 0.4422 - accuracy: 0.7994 - val_loss: 0.4593 - val_accuracy: 0.7850\n",
            "Epoch 22/100\n",
            "313/313 [==============================] - 6s 21ms/step - loss: 0.4382 - accuracy: 0.8023 - val_loss: 0.4575 - val_accuracy: 0.7848\n",
            "Epoch 23/100\n",
            "313/313 [==============================] - 6s 21ms/step - loss: 0.4348 - accuracy: 0.8048 - val_loss: 0.4568 - val_accuracy: 0.7900\n",
            "Epoch 24/100\n",
            "313/313 [==============================] - 6s 21ms/step - loss: 0.4323 - accuracy: 0.8041 - val_loss: 0.4525 - val_accuracy: 0.7876\n",
            "Epoch 25/100\n",
            "313/313 [==============================] - 6s 21ms/step - loss: 0.4293 - accuracy: 0.8069 - val_loss: 0.4499 - val_accuracy: 0.7908\n",
            "Epoch 26/100\n",
            "313/313 [==============================] - 6s 21ms/step - loss: 0.4272 - accuracy: 0.8084 - val_loss: 0.4499 - val_accuracy: 0.7932\n",
            "Epoch 27/100\n",
            "313/313 [==============================] - 6s 21ms/step - loss: 0.4248 - accuracy: 0.8104 - val_loss: 0.4489 - val_accuracy: 0.7922\n",
            "Epoch 28/100\n",
            "313/313 [==============================] - 6s 21ms/step - loss: 0.4234 - accuracy: 0.8102 - val_loss: 0.4466 - val_accuracy: 0.7920\n",
            "Epoch 29/100\n",
            "313/313 [==============================] - 6s 21ms/step - loss: 0.4221 - accuracy: 0.8115 - val_loss: 0.4463 - val_accuracy: 0.7938\n",
            "Epoch 30/100\n",
            "313/313 [==============================] - 6s 21ms/step - loss: 0.4206 - accuracy: 0.8119 - val_loss: 0.4456 - val_accuracy: 0.7942\n",
            "Epoch 31/100\n",
            "313/313 [==============================] - 6s 21ms/step - loss: 0.4193 - accuracy: 0.8122 - val_loss: 0.4475 - val_accuracy: 0.7884\n",
            "Epoch 32/100\n",
            "313/313 [==============================] - 6s 21ms/step - loss: 0.4184 - accuracy: 0.8141 - val_loss: 0.4439 - val_accuracy: 0.7928\n",
            "Epoch 33/100\n",
            "313/313 [==============================] - 6s 21ms/step - loss: 0.4174 - accuracy: 0.8146 - val_loss: 0.4434 - val_accuracy: 0.7954\n",
            "Epoch 34/100\n",
            "313/313 [==============================] - 6s 21ms/step - loss: 0.4163 - accuracy: 0.8151 - val_loss: 0.4437 - val_accuracy: 0.7964\n",
            "Epoch 35/100\n",
            "313/313 [==============================] - 6s 21ms/step - loss: 0.4157 - accuracy: 0.8152 - val_loss: 0.4414 - val_accuracy: 0.7956\n",
            "Epoch 36/100\n",
            "313/313 [==============================] - 6s 21ms/step - loss: 0.4150 - accuracy: 0.8150 - val_loss: 0.4413 - val_accuracy: 0.7934\n",
            "Epoch 37/100\n",
            "313/313 [==============================] - 6s 20ms/step - loss: 0.4146 - accuracy: 0.8158 - val_loss: 0.4404 - val_accuracy: 0.7940\n",
            "Epoch 38/100\n",
            "313/313 [==============================] - 6s 21ms/step - loss: 0.4136 - accuracy: 0.8167 - val_loss: 0.4406 - val_accuracy: 0.7976\n",
            "Epoch 39/100\n",
            "313/313 [==============================] - 6s 21ms/step - loss: 0.4132 - accuracy: 0.8148 - val_loss: 0.4432 - val_accuracy: 0.7916\n",
            "Epoch 40/100\n",
            "313/313 [==============================] - 7s 21ms/step - loss: 0.4129 - accuracy: 0.8153 - val_loss: 0.4399 - val_accuracy: 0.7982\n",
            "Epoch 41/100\n",
            "313/313 [==============================] - 6s 21ms/step - loss: 0.4124 - accuracy: 0.8151 - val_loss: 0.4400 - val_accuracy: 0.7972\n",
            "Epoch 42/100\n",
            "313/313 [==============================] - 6s 20ms/step - loss: 0.4117 - accuracy: 0.8170 - val_loss: 0.4384 - val_accuracy: 0.7974\n",
            "Epoch 43/100\n",
            "313/313 [==============================] - 6s 20ms/step - loss: 0.4117 - accuracy: 0.8155 - val_loss: 0.4389 - val_accuracy: 0.7960\n",
            "Epoch 44/100\n",
            "313/313 [==============================] - 6s 21ms/step - loss: 0.4114 - accuracy: 0.8158 - val_loss: 0.4391 - val_accuracy: 0.7962\n",
            "Epoch 45/100\n",
            "313/313 [==============================] - 7s 21ms/step - loss: 0.4109 - accuracy: 0.8167 - val_loss: 0.4391 - val_accuracy: 0.7946\n"
          ]
        }
      ]
    },
    {
      "cell_type": "code",
      "source": [
        "plt.plot(history.history['loss'])\n",
        "plt.plot(history.history['val_loss'])\n",
        "plt.xlabel('epoch')\n",
        "plt.ylabel('loss')\n",
        "plt.legend(['train', 'val'])\n",
        "plt.show()"
      ],
      "metadata": {
        "colab": {
          "base_uri": "https://localhost:8080/",
          "height": 279
        },
        "id": "bl3ukfSP-gxF",
        "outputId": "9e4f81fa-1ea4-40eb-ec83-c7547f3a72cd"
      },
      "execution_count": null,
      "outputs": [
        {
          "output_type": "display_data",
          "data": {
            "image/png": "[encoded data removed]",
            "text/plain": [
              "<Figure size 432x288 with 1 Axes>"
            ]
          },
          "metadata": {
            "needs_background": "light"
          }
        }
      ]
    },
    {
      "cell_type": "code",
      "source": [
        "# LSTM과 GRU 셀로 훈련\n",
        "\n",
        "test_seq = pad_sequences(test_input, maxlen=100)\n",
        "rnn_model = keras.models.load_model('best-2rnn-model.h5')\n",
        "rnn_model.evaluate(test_seq, test_target)"
      ],
      "metadata": {
        "colab": {
          "base_uri": "https://localhost:8080/"
        },
        "id": "gz4SyR1z-yUc",
        "outputId": "4ea8890a-38a7-4fb9-a18e-2c6bcbe34dac"
      },
      "execution_count": null,
      "outputs": [
        {
          "output_type": "stream",
          "name": "stdout",
          "text": [
            "782/782 [==============================] - 13s 15ms/step - loss: 0.4240 - accuracy: 0.8004\n"
          ]
        },
        {
          "output_type": "execute_result",
          "data": {
            "text/plain": [
              "[0.42398226261138916, 0.8004000186920166]"
            ]
          },
          "metadata": {},
          "execution_count": 44
        }
      ]
    },
    {
      "cell_type": "code",
      "source": [
        ""
      ],
      "metadata": {
        "id": "duLk5ZNQ_ZQM"
      },
      "execution_count": null,
      "outputs": []
    }
  ]
}